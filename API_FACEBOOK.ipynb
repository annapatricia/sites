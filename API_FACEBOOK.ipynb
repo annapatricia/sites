{
  "nbformat": 4,
  "nbformat_minor": 0,
  "metadata": {
    "colab": {
      "provenance": []
    },
    "kernelspec": {
      "name": "python3",
      "display_name": "Python 3"
    },
    "language_info": {
      "name": "python"
    }
  },
  "cells": [
    {
      "cell_type": "markdown",
      "source": [
        "#API Graph do Facebook"
      ],
      "metadata": {
        "id": "uOfqkkSkcmhb"
      }
    },
    {
      "cell_type": "markdown",
      "source": [
        "Coletar informações de grupos no Facebook usando Python pode ser feito por meio da API Graph do Facebook, que permite acessar os dados disponíveis publicamente ou concedidos por usuários via permissões.\n",
        "\n",
        "Entretanto, para usar essa API, você precisa de:\n",
        "\n",
        "Criar um App no Facebook Developer para obter um Access Token.\n",
        "\n",
        "Solicitar permissões específicas (como groups_access_member_info) para acessar informações de grupos.\n",
        "\n",
        "Garantir que as informações coletadas estejam em conformidade com as políticas de privacidade do Facebook.\n",
        "\n",
        "Aqui vai um exemplo simples para obter informações de um grupo público (como nome e descrição)."
      ],
      "metadata": {
        "id": "9CfigeLPccF-"
      }
    },
    {
      "cell_type": "code",
      "source": [
        "pip install requests\n"
      ],
      "metadata": {
        "colab": {
          "base_uri": "https://localhost:8080/"
        },
        "id": "kXwqZMHRc9Z1",
        "outputId": "bd7a6b30-2326-4baf-f8f8-4151dd1b082e"
      },
      "execution_count": null,
      "outputs": [
        {
          "output_type": "stream",
          "name": "stdout",
          "text": [
            "Requirement already satisfied: requests in /usr/local/lib/python3.10/dist-packages (2.32.3)\n",
            "Requirement already satisfied: charset-normalizer<4,>=2 in /usr/local/lib/python3.10/dist-packages (from requests) (3.4.0)\n",
            "Requirement already satisfied: idna<4,>=2.5 in /usr/local/lib/python3.10/dist-packages (from requests) (3.10)\n",
            "Requirement already satisfied: urllib3<3,>=1.21.1 in /usr/local/lib/python3.10/dist-packages (from requests) (2.2.3)\n",
            "Requirement already satisfied: certifi>=2017.4.17 in /usr/local/lib/python3.10/dist-packages (from requests) (2024.8.30)\n"
          ]
        }
      ]
    },
    {
      "cell_type": "code",
      "source": [
        "import requests\n",
        "\n",
        "# Seu Access Token gerado no Facebook Developer\n",
        "ACCESS_TOKEN = \"SEU_ACCESS_TOKEN\"\n",
        "\n",
        "# ID do grupo (substitua pelo ID do grupo que você quer acessar)\n",
        "GROUP_ID = \"ID_DO_GRUPO\"\n",
        "\n",
        "# URL da API Graph\n",
        "url = f\"https://graph.facebook.com/v15.0/{GROUP_ID}\"\n",
        "\n",
        "# Parâmetros que você deseja coletar (aqui, nome e descrição do grupo)\n",
        "params = {\n",
        "    \"fields\": \"name,description\",\n",
        "    \"access_token\": ACCESS_TOKEN\n",
        "}\n",
        "\n",
        "# Requisição GET para a API\n",
        "response = requests.get(url, params=params)\n",
        "\n",
        "if response.status_code == 200:\n",
        "    data = response.json()\n",
        "    print(\"Nome do Grupo:\", data.get(\"name\"))\n",
        "    print(\"Descrição:\", data.get(\"description\"))\n",
        "else:\n",
        "    print(\"Erro:\", response.json())\n"
      ],
      "metadata": {
        "colab": {
          "base_uri": "https://localhost:8080/"
        },
        "id": "X77CPUywc_8k",
        "outputId": "634b794b-a3af-4c3b-9795-a953ad8313bd"
      },
      "execution_count": null,
      "outputs": [
        {
          "output_type": "stream",
          "name": "stdout",
          "text": [
            "Erro: {'error': {'message': 'Invalid OAuth access token - Cannot parse access token', 'type': 'OAuthException', 'code': 190, 'fbtrace_id': 'ARS6pZMRlFWlQuT2hW9iGyI'}}\n"
          ]
        }
      ]
    },
    {
      "cell_type": "markdown",
      "source": [
        "#Explicação do Código:\n",
        "ACCESS_TOKEN: Chave para autenticação que você deve gerar no painel do Facebook Developer.\n",
        "\n",
        "GROUP_ID: O ID do grupo que você deseja acessar. Pode ser obtido diretamente pela URL do grupo ou usando ferramentas de busca de ID.\n",
        "\n",
        "fields: Define os dados que você quer buscar. Aqui, coletamos apenas o nome e descrição, mas outros campos podem ser adicionados (se você tiver permissão).\n"
      ],
      "metadata": {
        "id": "AnleWEwKdNQ9"
      }
    },
    {
      "cell_type": "markdown",
      "source": [
        "#Dicas e Restrições:\n",
        "Grupos Privados: Para acessar informações de grupos privados, você precisa ser administrador do grupo e solicitar permissões adicionais.\n",
        "\n",
        "Access Token Temporário: Os tokens expiram. Considere usar um Long-Lived Token para tokens mais duradouros.\n",
        "\n",
        "Respeite a Privacidade: Sempre obtenha consentimento e siga as políticas do Facebook para evitar bloqueios ou problemas legais.\n",
        "Se quiser algo mais avançado, como automatizar o processo ou lidar com grande volume de dados, posso ajudar!"
      ],
      "metadata": {
        "id": "3NYUnEP8ddy9"
      }
    },
    {
      "cell_type": "markdown",
      "source": [
        "#Etapas que podem levar tempo:\n",
        "Criação do App e Configuração do Facebook Developer:\n",
        "\n",
        "Criar o app em Facebook Developers é rápido, mas configurar permissões e integrações pode levar algumas horas para quem não está familiarizado com a plataforma.\n",
        "\n",
        "Solicitação de Permissões Avançadas:\n",
        "\n",
        "Permissões básicas, como acessar dados públicos de páginas ou grupos abertos, são automáticas e rápidas.\n",
        "\n",
        "Permissões avançadas, como groups_access_member_info (para grupos privados ou dados de membros), exigem que você submeta sua aplicação para revisão manual pelo Facebook. Isso inclui:\n",
        "\n",
        "Explicar por que você precisa dessas permissões.\n",
        "\n",
        "Demonstrar como usará os dados de forma ética e em conformidade com as políticas.\n",
        "\n",
        "Fornecer exemplos práticos, como vídeos mostrando o funcionamento do app.\n",
        "\n",
        "A revisão pode levar semanas (geralmente 1-2 semanas, mas depende da complexidade).\n",
        "\n",
        "Geração e Renovação do Token de Acesso:\n",
        "\n",
        "Tokens básicos expiram rapidamente (em questão de horas).\n",
        "\n",
        "Você precisará configurar um Long-Lived Token (dura até 60 dias) ou implementar um sistema para renovação automática, o que pode ser um pouco técnico.\n",
        "\n",
        "Restrições Legais e Políticas:\n",
        "\n",
        "Dependendo do que você deseja coletar, o Facebook pode negar permissões se achar que os dados não serão usados de maneira legítima ou ética.\n",
        "\n",
        "Garantir conformidade com a GDPR (Europa) ou LGPD (Brasil) também pode ser um obstáculo se você estiver coletando dados de usuários."
      ],
      "metadata": {
        "id": "FWVcxxiHd8uf"
      }
    },
    {
      "cell_type": "markdown",
      "source": [
        "#Para Grupos Públicos:\n",
        "Se você só precisa de informações públicas, como nome do grupo, descrição ou postagens visíveis publicamente, o processo é mais simples. Você não precisa submeter sua aplicação para revisão, apenas criar um token temporário, o que pode ser feito em menos de 1 hora.\n"
      ],
      "metadata": {
        "id": "mLQi86TCezR4"
      }
    },
    {
      "cell_type": "markdown",
      "source": [
        "#Alternativa com Web Scraping:\n",
        "Se você estiver lidando com grupos públicos e não quiser passar pelo processo da API, é possível usar web scraping para extrair informações. No entanto:\n",
        "\n",
        "É contra os termos de uso do Facebook, e sua conta pode ser banida.\n",
        "Você pode enfrentar barreiras, como bloqueios de IP e CAPTCHA.\n",
        "Exemplo básico com Selenium (somente para aprendizado, use com cuidado):"
      ],
      "metadata": {
        "id": "jBBSQpdUe5mA"
      }
    },
    {
      "cell_type": "code",
      "source": [
        "from selenium import webdriver\n",
        "from selenium.webdriver.common.by import By\n",
        "\n",
        "# Configuração do driver\n",
        "driver = webdriver.Chrome()\n",
        "\n",
        "# URL do grupo público\n",
        "url = \"https://www.facebook.com/groups/ID_DO_GRUPO\"\n",
        "driver.get(url)\n",
        "\n",
        "# Extração de informações (exemplo: título do grupo)\n",
        "group_name = driver.find_element(By.TAG_NAME, \"h1\").text\n",
        "print(\"Nome do Grupo:\", group_name)\n",
        "\n",
        "driver.quit()\n"
      ],
      "metadata": {
        "colab": {
          "base_uri": "https://localhost:8080/",
          "height": 403
        },
        "id": "DJnMj0ShfF5d",
        "outputId": "ca99713b-5ea1-452f-d67f-c58700cc2d2d"
      },
      "execution_count": null,
      "outputs": [
        {
          "output_type": "error",
          "ename": "ModuleNotFoundError",
          "evalue": "No module named 'selenium'",
          "traceback": [
            "\u001b[0;31m---------------------------------------------------------------------------\u001b[0m",
            "\u001b[0;31mModuleNotFoundError\u001b[0m                       Traceback (most recent call last)",
            "\u001b[0;32m<ipython-input-3-27d7469b6f6b>\u001b[0m in \u001b[0;36m<cell line: 1>\u001b[0;34m()\u001b[0m\n\u001b[0;32m----> 1\u001b[0;31m \u001b[0;32mfrom\u001b[0m \u001b[0mselenium\u001b[0m \u001b[0;32mimport\u001b[0m \u001b[0mwebdriver\u001b[0m\u001b[0;34m\u001b[0m\u001b[0;34m\u001b[0m\u001b[0m\n\u001b[0m\u001b[1;32m      2\u001b[0m \u001b[0;32mfrom\u001b[0m \u001b[0mselenium\u001b[0m\u001b[0;34m.\u001b[0m\u001b[0mwebdriver\u001b[0m\u001b[0;34m.\u001b[0m\u001b[0mcommon\u001b[0m\u001b[0;34m.\u001b[0m\u001b[0mby\u001b[0m \u001b[0;32mimport\u001b[0m \u001b[0mBy\u001b[0m\u001b[0;34m\u001b[0m\u001b[0;34m\u001b[0m\u001b[0m\n\u001b[1;32m      3\u001b[0m \u001b[0;34m\u001b[0m\u001b[0m\n\u001b[1;32m      4\u001b[0m \u001b[0;31m# Configuração do driver\u001b[0m\u001b[0;34m\u001b[0m\u001b[0;34m\u001b[0m\u001b[0m\n\u001b[1;32m      5\u001b[0m \u001b[0mdriver\u001b[0m \u001b[0;34m=\u001b[0m \u001b[0mwebdriver\u001b[0m\u001b[0;34m.\u001b[0m\u001b[0mChrome\u001b[0m\u001b[0;34m(\u001b[0m\u001b[0;34m)\u001b[0m\u001b[0;34m\u001b[0m\u001b[0;34m\u001b[0m\u001b[0m\n",
            "\u001b[0;31mModuleNotFoundError\u001b[0m: No module named 'selenium'",
            "",
            "\u001b[0;31m---------------------------------------------------------------------------\u001b[0;32m\nNOTE: If your import is failing due to a missing package, you can\nmanually install dependencies using either !pip or !apt.\n\nTo view examples of installing some common dependencies, click the\n\"Open Examples\" button below.\n\u001b[0;31m---------------------------------------------------------------------------\u001b[0m\n"
          ],
          "errorDetails": {
            "actions": [
              {
                "action": "open_url",
                "actionText": "Open Examples",
                "url": "/notebooks/snippets/importing_libraries.ipynb"
              }
            ]
          }
        }
      ]
    }
  ]
}